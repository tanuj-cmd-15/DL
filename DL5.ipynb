{
 "cells": [
  {
   "cell_type": "code",
   "execution_count": 1,
   "id": "1fb671f2",
   "metadata": {},
   "outputs": [
    {
     "name": "stderr",
     "output_type": "stream",
     "text": [
      "D:\\Users\\Bhushan\\anaconda3\\lib\\site-packages\\scipy\\__init__.py:146: UserWarning: A NumPy version >=1.16.5 and <1.23.0 is required for this version of SciPy (detected version 1.26.1\n",
      "  warnings.warn(f\"A NumPy version >={np_minversion} and <{np_maxversion}\"\n"
     ]
    }
   ],
   "source": [
    "import matplotlib.pyplot as plt\n",
    "import seaborn as sns\n",
    "import matplotlib as mpl\n",
    "import matplotlib.pylab as pylab\n",
    "import numpy as np\n",
    "%matplotlib inline"
   ]
  },
  {
   "cell_type": "code",
   "execution_count": 2,
   "id": "84089198",
   "metadata": {},
   "outputs": [],
   "source": [
    "import re"
   ]
  },
  {
   "cell_type": "code",
   "execution_count": 25,
   "id": "9380b3f6",
   "metadata": {},
   "outputs": [],
   "source": [
    "sentences = \"\"\" We are about to study the idea of a computational process.\n",
    "Computational processes are abstract beings that inhabit computers. \n",
    "As they evolve, processes manipulate other abstract things called data. \n",
    "The evolution of a process is directed by a pattern of rules \n",
    "called a program. People create programs to direct processes. In effect, \n",
    "we conjure the spirits of the computer with our spells.\"\"\""
   ]
  },
  {
   "cell_type": "code",
   "execution_count": 26,
   "id": "9febe021",
   "metadata": {},
   "outputs": [],
   "source": [
    "sentences = re.sub('[^A-Za-z0-9]+',' ', sentences)\n",
    "sentences = re.sub(r'(?:^|  )\\w(?:$| )', ' ',sentences).strip()\n",
    "sentences = sentences.lower()"
   ]
  },
  {
   "cell_type": "code",
   "execution_count": 27,
   "id": "b6338772",
   "metadata": {},
   "outputs": [],
   "source": [
    "words = sentences.split()\n",
    "vocab = set(words)"
   ]
  },
  {
   "cell_type": "code",
   "execution_count": 28,
   "id": "6073d37d",
   "metadata": {},
   "outputs": [],
   "source": [
    "vocab_size = len(vocab)\n",
    "embed_dim =10\n",
    "context_size = 2"
   ]
  },
  {
   "cell_type": "code",
   "execution_count": 29,
   "id": "e0b79b7a",
   "metadata": {},
   "outputs": [],
   "source": [
    "word_to_ix ={word: i for i , word in enumerate(vocab)}\n",
    "ix_to_word ={i: word for i, word in enumerate(vocab)}"
   ]
  },
  {
   "cell_type": "code",
   "execution_count": 30,
   "id": "fb52a036",
   "metadata": {},
   "outputs": [
    {
     "name": "stdout",
     "output_type": "stream",
     "text": [
      "[(['we', 'are', 'to', 'study'], 'about'), (['are', 'about', 'study', 'the'], 'to'), (['about', 'to', 'the', 'idea'], 'study'), (['to', 'study', 'idea', 'of'], 'the'), (['study', 'the', 'of', 'a'], 'idea')]\n"
     ]
    }
   ],
   "source": [
    "data = []\n",
    "for i in range(2, len(words) - 2):\n",
    "    context = [words[i - 2], words[i - 1], words[i + 1],words[i + 2]]\n",
    "    target = words[i]\n",
    "    data.append((context,target))\n",
    "print(data[:5])"
   ]
  },
  {
   "cell_type": "code",
   "execution_count": 31,
   "id": "03491837",
   "metadata": {},
   "outputs": [],
   "source": [
    "embeddings = np.random.random_sample((vocab_size, embed_dim))"
   ]
  },
  {
   "cell_type": "code",
   "execution_count": 32,
   "id": "df360bc0",
   "metadata": {},
   "outputs": [],
   "source": [
    "def linear(m, theta):\n",
    "    w = theta\n",
    "    return m.dot(w)"
   ]
  },
  {
   "cell_type": "code",
   "execution_count": 33,
   "id": "dc926bdd",
   "metadata": {},
   "outputs": [],
   "source": [
    "def log_softmax(x):\n",
    "    e_x = np.exp(x - np.max(x))\n",
    "    return np.log(e_x/e_x.sum())"
   ]
  },
  {
   "cell_type": "code",
   "execution_count": 34,
   "id": "fbc73608",
   "metadata": {},
   "outputs": [],
   "source": [
    "def NLLLOSS(logs, targets):\n",
    "    out =logs[range(len(targets)),targets]\n",
    "    return -out.sum()/len(out)"
   ]
  },
  {
   "cell_type": "code",
   "execution_count": 36,
   "id": "6f5e89a4",
   "metadata": {},
   "outputs": [],
   "source": [
    "def log_softmax_crossentropy_with_logits(logits,target):\n",
    "    out = np.zeros_like(logits)\n",
    "    out[np.arange(len(logits)),target] = 1\n",
    "    softmax = np.exp(logits)/np.exp(logits).sum(axis=-1,keepdims=True)\n",
    "    return(- out + softmax)/logits.shape[0]"
   ]
  },
  {
   "cell_type": "code",
   "execution_count": 37,
   "id": "84a4724f",
   "metadata": {},
   "outputs": [],
   "source": [
    "def forward(context_idxs, theta):\n",
    "    m = embeddings[context_idxs].reshape(1,-1)\n",
    "    n = linear(m,theta)\n",
    "    o = log_softmax(n)\n",
    "    \n",
    "    return m,n,o"
   ]
  },
  {
   "cell_type": "code",
   "execution_count": 38,
   "id": "7ad9c726",
   "metadata": {},
   "outputs": [],
   "source": [
    "def backward(preds,theta,target_idxs):\n",
    "    m,n,o = preds \n",
    "    dlog = log_softmax_crossentropy_with_logits(n,target_idxs)\n",
    "    dw = m.T.dot(dlog)\n",
    "    return dw"
   ]
  },
  {
   "cell_type": "code",
   "execution_count": 39,
   "id": "598c69b5",
   "metadata": {},
   "outputs": [],
   "source": [
    "def optimize(theta,grad,lr = 0.03):\n",
    "    theta== grad *lr\n",
    "    return theta"
   ]
  },
  {
   "cell_type": "code",
   "execution_count": 40,
   "id": "949c2f94",
   "metadata": {},
   "outputs": [],
   "source": [
    "theta = np.random.uniform(-1,1,(2*context_size*embed_dim,vocab_size))"
   ]
  },
  {
   "cell_type": "code",
   "execution_count": 44,
   "id": "1c8cf081",
   "metadata": {},
   "outputs": [],
   "source": [
    "epoch_losses = {}\n",
    "\n",
    "for epoch in range(80):\n",
    "    losses = []\n",
    "    for context, target in data:\n",
    "        context_idxs = np.array([word_to_ix[w] for w in context])\n",
    "        preds = forward(context_idxs,theta)\n",
    "        \n",
    "        target_idxs = np.array([word_to_ix[target]])\n",
    "        loss = NLLLOSS(preds[-1],target_idxs)\n",
    "        \n",
    "        losses.append(loss)\n",
    "        \n",
    "        grad = backward(preds,theta,target_idxs)\n",
    "        theta = optimize(theta,grad,lr=0.03)\n",
    "    epoch_losses[epoch] = losses"
   ]
  },
  {
   "cell_type": "code",
   "execution_count": 46,
   "id": "5b182dca",
   "metadata": {},
   "outputs": [
    {
     "data": {
      "text/plain": [
       "Text(0, 0.5, 'Losses')"
      ]
     },
     "execution_count": 46,
     "metadata": {},
     "output_type": "execute_result"
    },
    {
     "data": {
      "image/png": "[encoded data removed]",
      "text/plain": [
       "<Figure size 432x288 with 1 Axes>"
      ]
     },
     "metadata": {
      "needs_background": "light"
     },
     "output_type": "display_data"
    }
   ],
   "source": [
    "ix =np.arange(0,80)\n",
    "\n",
    "fig=plt.figure()\n",
    "fig.suptitle('Epoch/Losses', fontsize=20)\n",
    "plt.plot(ix,[epoch_losses[i][0] for i in ix])\n",
    "plt.xlabel('Epochs',fontsize=12)\n",
    "plt.ylabel('Losses',fontsize=12)"
   ]
  },
  {
   "cell_type": "code",
   "execution_count": 47,
   "id": "03168320",
   "metadata": {},
   "outputs": [],
   "source": [
    "def predict(words):\n",
    "    context_idxs = np.array([word_to_ix[w] for w in words])\n",
    "    preds = forward(context_idxs,theta)\n",
    "    word = ix_to_word[np.argmax(preds[-1])]\n",
    "    \n",
    "    return word"
   ]
  },
  {
   "cell_type": "code",
   "execution_count": 49,
   "id": "7edf70bb",
   "metadata": {},
   "outputs": [
    {
     "data": {
      "text/plain": [
       "'things'"
      ]
     },
     "execution_count": 49,
     "metadata": {},
     "output_type": "execute_result"
    }
   ],
   "source": [
    "predict(['we','are','to','study'])"
   ]
  },
  {
   "cell_type": "code",
   "execution_count": 53,
   "id": "5d90b838",
   "metadata": {},
   "outputs": [],
   "source": [
    "def accuracy():\n",
    "    wrong = 0\n",
    "    \n",
    "    for context,targte in data:\n",
    "        if(predict(context) != target):\n",
    "            wrong += 1\n",
    "    return (1- (wrong / len(data)))"
   ]
  },
  {
   "cell_type": "code",
   "execution_count": 54,
   "id": "c49613cf",
   "metadata": {},
   "outputs": [
    {
     "data": {
      "text/plain": [
       "0.0"
      ]
     },
     "execution_count": 54,
     "metadata": {},
     "output_type": "execute_result"
    }
   ],
   "source": [
    "accuracy()"
   ]
  },
  {
   "cell_type": "code",
   "execution_count": 55,
   "id": "68d95554",
   "metadata": {},
   "outputs": [
    {
     "data": {
      "text/plain": [
       "'things'"
      ]
     },
     "execution_count": 55,
     "metadata": {},
     "output_type": "execute_result"
    }
   ],
   "source": [
    "predict(['processes','manipulate','things','study'])"
   ]
  },
  {
   "cell_type": "code",
   "execution_count": null,
   "id": "784d9e8a",
   "metadata": {},
   "outputs": [],
   "source": []
  }
 ],
 "metadata": {
  "kernelspec": {
   "display_name": "Python 3 (ipykernel)",
   "language": "python",
   "name": "python3"
  },
  "language_info": {
   "codemirror_mode": {
    "name": "ipython",
    "version": 3
   },
   "file_extension": ".py",
   "mimetype": "text/x-python",
   "name": "python",
   "nbconvert_exporter": "python",
   "pygments_lexer": "ipython3",
   "version": "3.9.7"
  }
 },
 "nbformat": 4,
 "nbformat_minor": 5
}
